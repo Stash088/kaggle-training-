{
 "cells": [
  {
   "cell_type": "markdown",
   "id": "corporate-nutrition",
   "metadata": {
    "id": "5UYjs3MwesAL",
    "papermill": {
     "duration": 0.025707,
     "end_time": "2021-06-22T21:26:09.250628",
     "exception": false,
     "start_time": "2021-06-22T21:26:09.224921",
     "status": "completed"
    },
    "tags": []
   },
   "source": [
    "### libraries"
   ]
  },
  {
   "cell_type": "code",
   "execution_count": 1,
   "id": "alpha-victoria",
   "metadata": {
    "execution": {
     "iopub.execute_input": "2021-06-22T21:26:09.314185Z",
     "iopub.status.busy": "2021-06-22T21:26:09.313472Z",
     "iopub.status.idle": "2021-06-22T21:26:09.328664Z",
     "shell.execute_reply": "2021-06-22T21:26:09.327417Z",
     "shell.execute_reply.started": "2021-06-22T21:25:22.834566Z"
    },
    "papermill": {
     "duration": 0.053109,
     "end_time": "2021-06-22T21:26:09.328971",
     "exception": false,
     "start_time": "2021-06-22T21:26:09.275862",
     "status": "completed"
    },
    "tags": []
   },
   "outputs": [
    {
     "name": "stdout",
     "output_type": "stream",
     "text": [
      "/kaggle/input/heart-failure-clinical-data/heart_failure_clinical_records_dataset.csv\n"
     ]
    }
   ],
   "source": [
    "# This Python 3 environment comes with many helpful analytics libraries installed\n",
    "# It is defined by the kaggle/python Docker image: https://github.com/kaggle/docker-python\n",
    "# For example, here's several helpful packages to load\n",
    "# Input data files are available in the read-only \"../input/\" directory\n",
    "# For example, running this (by clicking run or pressing Shift+Enter) will list all files under the input directory\n",
    "\n",
    "import os\n",
    "for dirname, _, filenames in os.walk('/kaggle/input'):\n",
    "    for filename in filenames:\n",
    "        print(os.path.join(dirname, filename))\n",
    "\n",
    "# You can write up to 20GB to the current directory (/kaggle/working/) that gets preserved as output when you create a version using \"Save & Run All\" \n",
    "# You can also write temporary files to /kaggle/temp/, but they won't be saved outside of the current session"
   ]
  },
  {
   "cell_type": "code",
   "execution_count": 2,
   "id": "sublime-guyana",
   "metadata": {
    "execution": {
     "iopub.execute_input": "2021-06-22T21:26:09.386339Z",
     "iopub.status.busy": "2021-06-22T21:26:09.385459Z",
     "iopub.status.idle": "2021-06-22T21:26:10.473032Z",
     "shell.execute_reply": "2021-06-22T21:26:10.473604Z",
     "shell.execute_reply.started": "2021-06-22T21:25:22.846435Z"
    },
    "id": "Nhkl_6MShkM-",
    "papermill": {
     "duration": 1.118571,
     "end_time": "2021-06-22T21:26:10.473895",
     "exception": false,
     "start_time": "2021-06-22T21:26:09.355324",
     "status": "completed"
    },
    "tags": []
   },
   "outputs": [],
   "source": [
    "import numpy as np\n",
    "import pandas as pd\n",
    "from matplotlib import pyplot as plt\n",
    "import seaborn as sns\n",
    "from sklearn.model_selection import train_test_split , GridSearchCV\n",
    "from sklearn.metrics import f1_score , accuracy_score , roc_auc_score\n",
    "from sklearn.preprocessing import StandardScaler"
   ]
  },
  {
   "cell_type": "code",
   "execution_count": 3,
   "id": "latest-helen",
   "metadata": {
    "execution": {
     "iopub.execute_input": "2021-06-22T21:26:10.554055Z",
     "iopub.status.busy": "2021-06-22T21:26:10.553333Z",
     "iopub.status.idle": "2021-06-22T21:26:10.569647Z",
     "shell.execute_reply": "2021-06-22T21:26:10.568733Z",
     "shell.execute_reply.started": "2021-06-22T21:25:23.278208Z"
    },
    "id": "hHwMtQFTiYfS",
    "papermill": {
     "duration": 0.058803,
     "end_time": "2021-06-22T21:26:10.569813",
     "exception": false,
     "start_time": "2021-06-22T21:26:10.511010",
     "status": "completed"
    },
    "tags": []
   },
   "outputs": [],
   "source": [
    "data = pd.read_csv('../input/heart-failure-clinical-data/heart_failure_clinical_records_dataset.csv')"
   ]
  },
  {
   "cell_type": "code",
   "execution_count": 4,
   "id": "transparent-annual",
   "metadata": {
    "execution": {
     "iopub.execute_input": "2021-06-22T21:26:10.639722Z",
     "iopub.status.busy": "2021-06-22T21:26:10.638957Z",
     "iopub.status.idle": "2021-06-22T21:26:10.667216Z",
     "shell.execute_reply": "2021-06-22T21:26:10.667756Z",
     "shell.execute_reply.started": "2021-06-22T21:25:23.291967Z"
    },
    "id": "Vub6MD4OicO3",
    "outputId": "d1ab3a59-d333-4944-91b2-c589567bc24d",
    "papermill": {
     "duration": 0.065151,
     "end_time": "2021-06-22T21:26:10.667935",
     "exception": false,
     "start_time": "2021-06-22T21:26:10.602784",
     "status": "completed"
    },
    "tags": []
   },
   "outputs": [
    {
     "data": {
      "text/html": [
       "<div>\n",
       "<style scoped>\n",
       "    .dataframe tbody tr th:only-of-type {\n",
       "        vertical-align: middle;\n",
       "    }\n",
       "\n",
       "    .dataframe tbody tr th {\n",
       "        vertical-align: top;\n",
       "    }\n",
       "\n",
       "    .dataframe thead th {\n",
       "        text-align: right;\n",
       "    }\n",
       "</style>\n",
       "<table border=\"1\" class=\"dataframe\">\n",
       "  <thead>\n",
       "    <tr style=\"text-align: right;\">\n",
       "      <th></th>\n",
       "      <th>age</th>\n",
       "      <th>anaemia</th>\n",
       "      <th>creatinine_phosphokinase</th>\n",
       "      <th>diabetes</th>\n",
       "      <th>ejection_fraction</th>\n",
       "      <th>high_blood_pressure</th>\n",
       "      <th>platelets</th>\n",
       "      <th>serum_creatinine</th>\n",
       "      <th>serum_sodium</th>\n",
       "      <th>sex</th>\n",
       "      <th>smoking</th>\n",
       "      <th>time</th>\n",
       "      <th>DEATH_EVENT</th>\n",
       "    </tr>\n",
       "  </thead>\n",
       "  <tbody>\n",
       "    <tr>\n",
       "      <th>0</th>\n",
       "      <td>75.0</td>\n",
       "      <td>0</td>\n",
       "      <td>582</td>\n",
       "      <td>0</td>\n",
       "      <td>20</td>\n",
       "      <td>1</td>\n",
       "      <td>265000.00</td>\n",
       "      <td>1.9</td>\n",
       "      <td>130</td>\n",
       "      <td>1</td>\n",
       "      <td>0</td>\n",
       "      <td>4</td>\n",
       "      <td>1</td>\n",
       "    </tr>\n",
       "    <tr>\n",
       "      <th>1</th>\n",
       "      <td>55.0</td>\n",
       "      <td>0</td>\n",
       "      <td>7861</td>\n",
       "      <td>0</td>\n",
       "      <td>38</td>\n",
       "      <td>0</td>\n",
       "      <td>263358.03</td>\n",
       "      <td>1.1</td>\n",
       "      <td>136</td>\n",
       "      <td>1</td>\n",
       "      <td>0</td>\n",
       "      <td>6</td>\n",
       "      <td>1</td>\n",
       "    </tr>\n",
       "    <tr>\n",
       "      <th>2</th>\n",
       "      <td>65.0</td>\n",
       "      <td>0</td>\n",
       "      <td>146</td>\n",
       "      <td>0</td>\n",
       "      <td>20</td>\n",
       "      <td>0</td>\n",
       "      <td>162000.00</td>\n",
       "      <td>1.3</td>\n",
       "      <td>129</td>\n",
       "      <td>1</td>\n",
       "      <td>1</td>\n",
       "      <td>7</td>\n",
       "      <td>1</td>\n",
       "    </tr>\n",
       "    <tr>\n",
       "      <th>3</th>\n",
       "      <td>50.0</td>\n",
       "      <td>1</td>\n",
       "      <td>111</td>\n",
       "      <td>0</td>\n",
       "      <td>20</td>\n",
       "      <td>0</td>\n",
       "      <td>210000.00</td>\n",
       "      <td>1.9</td>\n",
       "      <td>137</td>\n",
       "      <td>1</td>\n",
       "      <td>0</td>\n",
       "      <td>7</td>\n",
       "      <td>1</td>\n",
       "    </tr>\n",
       "    <tr>\n",
       "      <th>4</th>\n",
       "      <td>65.0</td>\n",
       "      <td>1</td>\n",
       "      <td>160</td>\n",
       "      <td>1</td>\n",
       "      <td>20</td>\n",
       "      <td>0</td>\n",
       "      <td>327000.00</td>\n",
       "      <td>2.7</td>\n",
       "      <td>116</td>\n",
       "      <td>0</td>\n",
       "      <td>0</td>\n",
       "      <td>8</td>\n",
       "      <td>1</td>\n",
       "    </tr>\n",
       "  </tbody>\n",
       "</table>\n",
       "</div>"
      ],
      "text/plain": [
       "    age  anaemia  creatinine_phosphokinase  diabetes  ejection_fraction  \\\n",
       "0  75.0        0                       582         0                 20   \n",
       "1  55.0        0                      7861         0                 38   \n",
       "2  65.0        0                       146         0                 20   \n",
       "3  50.0        1                       111         0                 20   \n",
       "4  65.0        1                       160         1                 20   \n",
       "\n",
       "   high_blood_pressure  platelets  serum_creatinine  serum_sodium  sex  \\\n",
       "0                    1  265000.00               1.9           130    1   \n",
       "1                    0  263358.03               1.1           136    1   \n",
       "2                    0  162000.00               1.3           129    1   \n",
       "3                    0  210000.00               1.9           137    1   \n",
       "4                    0  327000.00               2.7           116    0   \n",
       "\n",
       "   smoking  time  DEATH_EVENT  \n",
       "0        0     4            1  \n",
       "1        0     6            1  \n",
       "2        1     7            1  \n",
       "3        0     7            1  \n",
       "4        0     8            1  "
      ]
     },
     "execution_count": 4,
     "metadata": {},
     "output_type": "execute_result"
    }
   ],
   "source": [
    "data.head()"
   ]
  },
  {
   "cell_type": "code",
   "execution_count": 5,
   "id": "specialized-falls",
   "metadata": {
    "execution": {
     "iopub.execute_input": "2021-06-22T21:26:10.723927Z",
     "iopub.status.busy": "2021-06-22T21:26:10.722801Z",
     "iopub.status.idle": "2021-06-22T21:26:10.729571Z",
     "shell.execute_reply": "2021-06-22T21:26:10.730039Z",
     "shell.execute_reply.started": "2021-06-22T21:25:23.313269Z"
    },
    "id": "XD3mdxldid8T",
    "outputId": "755da84b-1593-42a9-a36d-faf07a77c73a",
    "papermill": {
     "duration": 0.036227,
     "end_time": "2021-06-22T21:26:10.730251",
     "exception": false,
     "start_time": "2021-06-22T21:26:10.694024",
     "status": "completed"
    },
    "tags": []
   },
   "outputs": [
    {
     "data": {
      "text/plain": [
       "(299, 13)"
      ]
     },
     "execution_count": 5,
     "metadata": {},
     "output_type": "execute_result"
    }
   ],
   "source": [
    "data.shape"
   ]
  },
  {
   "cell_type": "code",
   "execution_count": 6,
   "id": "known-trading",
   "metadata": {
    "execution": {
     "iopub.execute_input": "2021-06-22T21:26:10.799358Z",
     "iopub.status.busy": "2021-06-22T21:26:10.798475Z",
     "iopub.status.idle": "2021-06-22T21:26:10.801915Z",
     "shell.execute_reply": "2021-06-22T21:26:10.802374Z",
     "shell.execute_reply.started": "2021-06-22T21:25:23.319642Z"
    },
    "id": "YfCUUoISirD2",
    "outputId": "5e27b06d-2059-475c-9d25-5476954955d6",
    "papermill": {
     "duration": 0.046017,
     "end_time": "2021-06-22T21:26:10.802563",
     "exception": false,
     "start_time": "2021-06-22T21:26:10.756546",
     "status": "completed"
    },
    "tags": []
   },
   "outputs": [
    {
     "data": {
      "text/html": [
       "<div>\n",
       "<style scoped>\n",
       "    .dataframe tbody tr th:only-of-type {\n",
       "        vertical-align: middle;\n",
       "    }\n",
       "\n",
       "    .dataframe tbody tr th {\n",
       "        vertical-align: top;\n",
       "    }\n",
       "\n",
       "    .dataframe thead th {\n",
       "        text-align: right;\n",
       "    }\n",
       "</style>\n",
       "<table border=\"1\" class=\"dataframe\">\n",
       "  <thead>\n",
       "    <tr style=\"text-align: right;\">\n",
       "      <th></th>\n",
       "      <th>age</th>\n",
       "      <th>anaemia</th>\n",
       "      <th>creatinine_phosphokinase</th>\n",
       "      <th>diabetes</th>\n",
       "      <th>ejection_fraction</th>\n",
       "      <th>high_blood_pressure</th>\n",
       "      <th>platelets</th>\n",
       "      <th>serum_creatinine</th>\n",
       "      <th>serum_sodium</th>\n",
       "      <th>sex</th>\n",
       "      <th>smoking</th>\n",
       "      <th>time</th>\n",
       "      <th>DEATH_EVENT</th>\n",
       "    </tr>\n",
       "  </thead>\n",
       "  <tbody>\n",
       "    <tr>\n",
       "      <th>0</th>\n",
       "      <td>75.0</td>\n",
       "      <td>0</td>\n",
       "      <td>582</td>\n",
       "      <td>0</td>\n",
       "      <td>20</td>\n",
       "      <td>1</td>\n",
       "      <td>265000.00</td>\n",
       "      <td>1.9</td>\n",
       "      <td>130</td>\n",
       "      <td>1</td>\n",
       "      <td>0</td>\n",
       "      <td>4</td>\n",
       "      <td>1</td>\n",
       "    </tr>\n",
       "    <tr>\n",
       "      <th>1</th>\n",
       "      <td>55.0</td>\n",
       "      <td>0</td>\n",
       "      <td>7861</td>\n",
       "      <td>0</td>\n",
       "      <td>38</td>\n",
       "      <td>0</td>\n",
       "      <td>263358.03</td>\n",
       "      <td>1.1</td>\n",
       "      <td>136</td>\n",
       "      <td>1</td>\n",
       "      <td>0</td>\n",
       "      <td>6</td>\n",
       "      <td>1</td>\n",
       "    </tr>\n",
       "    <tr>\n",
       "      <th>2</th>\n",
       "      <td>65.0</td>\n",
       "      <td>0</td>\n",
       "      <td>146</td>\n",
       "      <td>0</td>\n",
       "      <td>20</td>\n",
       "      <td>0</td>\n",
       "      <td>162000.00</td>\n",
       "      <td>1.3</td>\n",
       "      <td>129</td>\n",
       "      <td>1</td>\n",
       "      <td>1</td>\n",
       "      <td>7</td>\n",
       "      <td>1</td>\n",
       "    </tr>\n",
       "    <tr>\n",
       "      <th>3</th>\n",
       "      <td>50.0</td>\n",
       "      <td>1</td>\n",
       "      <td>111</td>\n",
       "      <td>0</td>\n",
       "      <td>20</td>\n",
       "      <td>0</td>\n",
       "      <td>210000.00</td>\n",
       "      <td>1.9</td>\n",
       "      <td>137</td>\n",
       "      <td>1</td>\n",
       "      <td>0</td>\n",
       "      <td>7</td>\n",
       "      <td>1</td>\n",
       "    </tr>\n",
       "    <tr>\n",
       "      <th>4</th>\n",
       "      <td>65.0</td>\n",
       "      <td>1</td>\n",
       "      <td>160</td>\n",
       "      <td>1</td>\n",
       "      <td>20</td>\n",
       "      <td>0</td>\n",
       "      <td>327000.00</td>\n",
       "      <td>2.7</td>\n",
       "      <td>116</td>\n",
       "      <td>0</td>\n",
       "      <td>0</td>\n",
       "      <td>8</td>\n",
       "      <td>1</td>\n",
       "    </tr>\n",
       "  </tbody>\n",
       "</table>\n",
       "</div>"
      ],
      "text/plain": [
       "    age  anaemia  creatinine_phosphokinase  diabetes  ejection_fraction  \\\n",
       "0  75.0        0                       582         0                 20   \n",
       "1  55.0        0                      7861         0                 38   \n",
       "2  65.0        0                       146         0                 20   \n",
       "3  50.0        1                       111         0                 20   \n",
       "4  65.0        1                       160         1                 20   \n",
       "\n",
       "   high_blood_pressure  platelets  serum_creatinine  serum_sodium  sex  \\\n",
       "0                    1  265000.00               1.9           130    1   \n",
       "1                    0  263358.03               1.1           136    1   \n",
       "2                    0  162000.00               1.3           129    1   \n",
       "3                    0  210000.00               1.9           137    1   \n",
       "4                    0  327000.00               2.7           116    0   \n",
       "\n",
       "   smoking  time  DEATH_EVENT  \n",
       "0        0     4            1  \n",
       "1        0     6            1  \n",
       "2        1     7            1  \n",
       "3        0     7            1  \n",
       "4        0     8            1  "
      ]
     },
     "execution_count": 6,
     "metadata": {},
     "output_type": "execute_result"
    }
   ],
   "source": [
    "data.head()"
   ]
  },
  {
   "cell_type": "markdown",
   "id": "popular-support",
   "metadata": {
    "id": "ms-xMHdBeIVN",
    "papermill": {
     "duration": 0.026305,
     "end_time": "2021-06-22T21:26:10.855302",
     "exception": false,
     "start_time": "2021-06-22T21:26:10.828997",
     "status": "completed"
    },
    "tags": []
   },
   "source": [
    "we will correct the signs"
   ]
  },
  {
   "cell_type": "code",
   "execution_count": 7,
   "id": "passing-original",
   "metadata": {
    "execution": {
     "iopub.execute_input": "2021-06-22T21:26:10.911464Z",
     "iopub.status.busy": "2021-06-22T21:26:10.910754Z",
     "iopub.status.idle": "2021-06-22T21:26:10.919481Z",
     "shell.execute_reply": "2021-06-22T21:26:10.918891Z",
     "shell.execute_reply.started": "2021-06-22T21:25:23.339419Z"
    },
    "id": "6Dag7b4i9i-v",
    "papermill": {
     "duration": 0.038044,
     "end_time": "2021-06-22T21:26:10.919639",
     "exception": false,
     "start_time": "2021-06-22T21:26:10.881595",
     "status": "completed"
    },
    "tags": []
   },
   "outputs": [],
   "source": [
    "data['age'] = data['age'].astype(int)\n",
    "data['platelets'] = data['platelets'].astype(int)"
   ]
  },
  {
   "cell_type": "markdown",
   "id": "dimensional-float",
   "metadata": {
    "id": "OHYmeUhqejhp",
    "papermill": {
     "duration": 0.026508,
     "end_time": "2021-06-22T21:26:10.973175",
     "exception": false,
     "start_time": "2021-06-22T21:26:10.946667",
     "status": "completed"
    },
    "tags": []
   },
   "source": [
    "### Data visualization"
   ]
  },
  {
   "cell_type": "code",
   "execution_count": 8,
   "id": "scheduled-dinner",
   "metadata": {
    "execution": {
     "iopub.execute_input": "2021-06-22T21:26:11.031849Z",
     "iopub.status.busy": "2021-06-22T21:26:11.031200Z",
     "iopub.status.idle": "2021-06-22T21:26:11.190280Z",
     "shell.execute_reply": "2021-06-22T21:26:11.190786Z",
     "shell.execute_reply.started": "2021-06-22T21:25:23.349479Z"
    },
    "id": "5DVaEDXujrr_",
    "outputId": "abf33a6b-5cd6-4403-cc31-00c259b9e3ce",
    "papermill": {
     "duration": 0.191171,
     "end_time": "2021-06-22T21:26:11.190958",
     "exception": false,
     "start_time": "2021-06-22T21:26:10.999787",
     "status": "completed"
    },
    "tags": []
   },
   "outputs": [
    {
     "name": "stderr",
     "output_type": "stream",
     "text": [
      "/opt/conda/lib/python3.7/site-packages/seaborn/_decorators.py:43: FutureWarning: Pass the following variable as a keyword arg: x. From version 0.12, the only valid positional argument will be `data`, and passing other arguments without an explicit keyword will result in an error or misinterpretation.\n",
      "  FutureWarning\n"
     ]
    },
    {
     "data": {
      "image/png": "[encoded data removed]",
      "text/plain": [
       "<Figure size 432x288 with 1 Axes>"
      ]
     },
     "metadata": {
      "needs_background": "light"
     },
     "output_type": "display_data"
    }
   ],
   "source": [
    "sns.countplot(data['sex']);"
   ]
  },
  {
   "cell_type": "markdown",
   "id": "educational-anchor",
   "metadata": {
    "id": "nb3PQKg3kuCk",
    "papermill": {
     "duration": 0.027186,
     "end_time": "2021-06-22T21:26:11.245595",
     "exception": false,
     "start_time": "2021-06-22T21:26:11.218409",
     "status": "completed"
    },
    "tags": []
   },
   "source": [
    " In our dataset, the number of male readings exceeds the number of female readings.\n"
   ]
  },
  {
   "cell_type": "code",
   "execution_count": 9,
   "id": "collaborative-division",
   "metadata": {
    "execution": {
     "iopub.execute_input": "2021-06-22T21:26:11.338352Z",
     "iopub.status.busy": "2021-06-22T21:26:11.328812Z",
     "iopub.status.idle": "2021-06-22T21:26:11.562428Z",
     "shell.execute_reply": "2021-06-22T21:26:11.561765Z",
     "shell.execute_reply.started": "2021-06-22T21:25:23.466567Z"
    },
    "id": "4_e6czDJklf_",
    "outputId": "ee6a7b25-86cd-46ba-a8fa-004ad0f8906b",
    "papermill": {
     "duration": 0.289678,
     "end_time": "2021-06-22T21:26:11.562595",
     "exception": false,
     "start_time": "2021-06-22T21:26:11.272917",
     "status": "completed"
    },
    "tags": []
   },
   "outputs": [
    {
     "data": {
      "image/png": "[encoded data removed]",
      "text/plain": [
       "<Figure size 360x360 with 1 Axes>"
      ]
     },
     "metadata": {
      "needs_background": "light"
     },
     "output_type": "display_data"
    }
   ],
   "source": [
    "sns.displot(data['age']);"
   ]
  },
  {
   "cell_type": "code",
   "execution_count": 10,
   "id": "welcome-cyprus",
   "metadata": {
    "execution": {
     "iopub.execute_input": "2021-06-22T21:26:11.625668Z",
     "iopub.status.busy": "2021-06-22T21:26:11.624993Z",
     "iopub.status.idle": "2021-06-22T21:26:11.631559Z",
     "shell.execute_reply": "2021-06-22T21:26:11.632031Z",
     "shell.execute_reply.started": "2021-06-22T21:25:23.655005Z"
    },
    "id": "F27hYdahlDQd",
    "outputId": "9ff28da1-9650-4ac7-a657-27efe560de4f",
    "papermill": {
     "duration": 0.041071,
     "end_time": "2021-06-22T21:26:11.632226",
     "exception": false,
     "start_time": "2021-06-22T21:26:11.591155",
     "status": "completed"
    },
    "tags": []
   },
   "outputs": [
    {
     "data": {
      "text/plain": [
       "count    299.000000\n",
       "mean      60.829431\n",
       "std       11.894997\n",
       "min       40.000000\n",
       "25%       51.000000\n",
       "50%       60.000000\n",
       "75%       70.000000\n",
       "max       95.000000\n",
       "Name: age, dtype: float64"
      ]
     },
     "execution_count": 10,
     "metadata": {},
     "output_type": "execute_result"
    }
   ],
   "source": [
    "data['age'].describe()"
   ]
  },
  {
   "cell_type": "code",
   "execution_count": 11,
   "id": "residential-causing",
   "metadata": {
    "execution": {
     "iopub.execute_input": "2021-06-22T21:26:11.692901Z",
     "iopub.status.busy": "2021-06-22T21:26:11.692239Z",
     "iopub.status.idle": "2021-06-22T21:26:11.697461Z",
     "shell.execute_reply": "2021-06-22T21:26:11.698034Z",
     "shell.execute_reply.started": "2021-06-22T21:25:23.665523Z"
    },
    "id": "2eneKRKAlpVt",
    "outputId": "4c984af0-8c16-4376-8e3d-9f6f4ed45127",
    "papermill": {
     "duration": 0.037407,
     "end_time": "2021-06-22T21:26:11.698230",
     "exception": false,
     "start_time": "2021-06-22T21:26:11.660823",
     "status": "completed"
    },
    "tags": []
   },
   "outputs": [
    {
     "data": {
      "text/plain": [
       "60.0"
      ]
     },
     "execution_count": 11,
     "metadata": {},
     "output_type": "execute_result"
    }
   ],
   "source": [
    "np.median(data['age'])"
   ]
  },
  {
   "cell_type": "markdown",
   "id": "ranging-fitting",
   "metadata": {
    "id": "Q0kczbvYl8ui",
    "papermill": {
     "duration": 0.028571,
     "end_time": "2021-06-22T21:26:11.755528",
     "exception": false,
     "start_time": "2021-06-22T21:26:11.726957",
     "status": "completed"
    },
    "tags": []
   },
   "source": [
    " The median and mean values are close, so we can say that the average age of the people in our dataset is 60 years\n",
    "\n"
   ]
  },
  {
   "cell_type": "markdown",
   "id": "available-vision",
   "metadata": {
    "id": "RXpqGnRQpGoB",
    "papermill": {
     "duration": 0.028889,
     "end_time": "2021-06-22T21:26:11.813418",
     "exception": false,
     "start_time": "2021-06-22T21:26:11.784529",
     "status": "completed"
    },
    "tags": []
   },
   "source": [
    "## Feature correlation"
   ]
  },
  {
   "cell_type": "code",
   "execution_count": 12,
   "id": "naughty-pointer",
   "metadata": {
    "execution": {
     "iopub.execute_input": "2021-06-22T21:26:11.874972Z",
     "iopub.status.busy": "2021-06-22T21:26:11.874260Z",
     "iopub.status.idle": "2021-06-22T21:26:13.055399Z",
     "shell.execute_reply": "2021-06-22T21:26:13.055999Z",
     "shell.execute_reply.started": "2021-06-22T21:25:23.674768Z"
    },
    "id": "oXVfw5gapNLg",
    "outputId": "bb4d9ff8-cacf-4526-bfa5-d53de4d227a0",
    "papermill": {
     "duration": 1.21387,
     "end_time": "2021-06-22T21:26:13.056261",
     "exception": false,
     "start_time": "2021-06-22T21:26:11.842391",
     "status": "completed"
    },
    "tags": []
   },
   "outputs": [
    {
     "data": {
      "image/png": "[encoded data removed]",
      "text/plain": [
       "<Figure size 720x576 with 2 Axes>"
      ]
     },
     "metadata": {
      "needs_background": "light"
     },
     "output_type": "display_data"
    }
   ],
   "source": [
    "corr = data.corr()\n",
    "ax , fig  = plt.subplots(figsize =(10 , 8 ))\n",
    "sns.heatmap(corr ,vmin = -1 , cmap='coolwarm', annot = True)\n",
    "plt.show()"
   ]
  },
  {
   "cell_type": "code",
   "execution_count": 13,
   "id": "alert-backing",
   "metadata": {
    "execution": {
     "iopub.execute_input": "2021-06-22T21:26:13.125705Z",
     "iopub.status.busy": "2021-06-22T21:26:13.124944Z",
     "iopub.status.idle": "2021-06-22T21:26:13.133843Z",
     "shell.execute_reply": "2021-06-22T21:26:13.133255Z",
     "shell.execute_reply.started": "2021-06-22T21:25:24.613180Z"
    },
    "id": "jolZNrMcVHoc",
    "outputId": "8c21f8c4-2014-4ae5-db65-4848cb6e0031",
    "papermill": {
     "duration": 0.045472,
     "end_time": "2021-06-22T21:26:13.134003",
     "exception": false,
     "start_time": "2021-06-22T21:26:13.088531",
     "status": "completed"
    },
    "tags": []
   },
   "outputs": [
    {
     "data": {
      "text/plain": [
       "age                  0.253581\n",
       "ejection_fraction   -0.268603\n",
       "serum_creatinine     0.294278\n",
       "serum_sodium        -0.195204\n",
       "time                -0.526964\n",
       "DEATH_EVENT          1.000000\n",
       "Name: DEATH_EVENT, dtype: float64"
      ]
     },
     "execution_count": 13,
     "metadata": {},
     "output_type": "execute_result"
    }
   ],
   "source": [
    "corr[abs(corr['DEATH_EVENT']) > 0.1]['DEATH_EVENT']"
   ]
  },
  {
   "cell_type": "markdown",
   "id": "noble-dryer",
   "metadata": {
    "id": "G-s0vL3rW62v",
    "papermill": {
     "duration": 0.03225,
     "end_time": "2021-06-22T21:26:13.198451",
     "exception": false,
     "start_time": "2021-06-22T21:26:13.166201",
     "status": "completed"
    },
    "tags": []
   },
   "source": [
    "Let's highlight the features that have a positive correlation close to zero"
   ]
  },
  {
   "cell_type": "markdown",
   "id": "threaded-television",
   "metadata": {
    "id": "wV_12vmtdyoj",
    "papermill": {
     "duration": 0.032129,
     "end_time": "2021-06-22T21:26:13.262951",
     "exception": false,
     "start_time": "2021-06-22T21:26:13.230822",
     "status": "completed"
    },
    "tags": []
   },
   "source": [
    "### Modeling and Optimization "
   ]
  },
  {
   "cell_type": "code",
   "execution_count": 14,
   "id": "nearby-straight",
   "metadata": {
    "execution": {
     "iopub.execute_input": "2021-06-22T21:26:13.334086Z",
     "iopub.status.busy": "2021-06-22T21:26:13.333444Z",
     "iopub.status.idle": "2021-06-22T21:26:13.335297Z",
     "shell.execute_reply": "2021-06-22T21:26:13.335878Z",
     "shell.execute_reply.started": "2021-06-22T21:25:24.622124Z"
    },
    "id": "WKQzH6QljX1T",
    "papermill": {
     "duration": 0.041016,
     "end_time": "2021-06-22T21:26:13.336051",
     "exception": false,
     "start_time": "2021-06-22T21:26:13.295035",
     "status": "completed"
    },
    "tags": []
   },
   "outputs": [],
   "source": [
    "X = data.drop(columns= 'DEATH_EVENT')\n",
    "y = data['DEATH_EVENT']"
   ]
  },
  {
   "cell_type": "code",
   "execution_count": 15,
   "id": "commercial-amplifier",
   "metadata": {
    "execution": {
     "iopub.execute_input": "2021-06-22T21:26:13.403977Z",
     "iopub.status.busy": "2021-06-22T21:26:13.403293Z",
     "iopub.status.idle": "2021-06-22T21:26:13.408920Z",
     "shell.execute_reply": "2021-06-22T21:26:13.409444Z",
     "shell.execute_reply.started": "2021-06-22T21:25:24.632215Z"
    },
    "id": "YUYUg6Qwpb0i",
    "papermill": {
     "duration": 0.041389,
     "end_time": "2021-06-22T21:26:13.409632",
     "exception": false,
     "start_time": "2021-06-22T21:26:13.368243",
     "status": "completed"
    },
    "tags": []
   },
   "outputs": [],
   "source": [
    "X_train, X_test , y_train , y_test = train_test_split(X, y , test_size = 0.2)"
   ]
  },
  {
   "cell_type": "code",
   "execution_count": 16,
   "id": "wooden-marketing",
   "metadata": {
    "execution": {
     "iopub.execute_input": "2021-06-22T21:26:13.477585Z",
     "iopub.status.busy": "2021-06-22T21:26:13.476922Z",
     "iopub.status.idle": "2021-06-22T21:26:13.589193Z",
     "shell.execute_reply": "2021-06-22T21:26:13.588481Z",
     "shell.execute_reply.started": "2021-06-22T21:25:24.644990Z"
    },
    "id": "2fSfCIEB_vJe",
    "papermill": {
     "duration": 0.147209,
     "end_time": "2021-06-22T21:26:13.589349",
     "exception": false,
     "start_time": "2021-06-22T21:26:13.442140",
     "status": "completed"
    },
    "tags": []
   },
   "outputs": [],
   "source": [
    "from sklearn.linear_model import LogisticRegression"
   ]
  },
  {
   "cell_type": "markdown",
   "id": "convenient-amazon",
   "metadata": {
    "id": "IFxCpPckdrNE",
    "papermill": {
     "duration": 0.031996,
     "end_time": "2021-06-22T21:26:13.654546",
     "exception": false,
     "start_time": "2021-06-22T21:26:13.622550",
     "status": "completed"
    },
    "tags": []
   },
   "source": [
    "### Logistic Regression "
   ]
  },
  {
   "cell_type": "code",
   "execution_count": 17,
   "id": "ultimate-fever",
   "metadata": {
    "execution": {
     "iopub.execute_input": "2021-06-22T21:26:13.732828Z",
     "iopub.status.busy": "2021-06-22T21:26:13.728792Z",
     "iopub.status.idle": "2021-06-22T21:26:13.763984Z",
     "shell.execute_reply": "2021-06-22T21:26:13.764466Z",
     "shell.execute_reply.started": "2021-06-22T21:25:24.674349Z"
    },
    "id": "ox04Gu9U_wJX",
    "papermill": {
     "duration": 0.077648,
     "end_time": "2021-06-22T21:26:13.764661",
     "exception": false,
     "start_time": "2021-06-22T21:26:13.687013",
     "status": "completed"
    },
    "tags": []
   },
   "outputs": [],
   "source": [
    "model = LogisticRegression()\n",
    "model.fit(X_train,y_train)\n",
    "y_pred = model.predict(X_test)"
   ]
  },
  {
   "cell_type": "code",
   "execution_count": 18,
   "id": "cutting-champion",
   "metadata": {
    "execution": {
     "iopub.execute_input": "2021-06-22T21:26:13.836355Z",
     "iopub.status.busy": "2021-06-22T21:26:13.835289Z",
     "iopub.status.idle": "2021-06-22T21:26:13.842677Z",
     "shell.execute_reply": "2021-06-22T21:26:13.842104Z",
     "shell.execute_reply.started": "2021-06-22T21:25:24.699540Z"
    },
    "id": "1JO40fFmAuqG",
    "outputId": "8faa5896-92c4-4623-cf65-8f91a7e93c88",
    "papermill": {
     "duration": 0.045718,
     "end_time": "2021-06-22T21:26:13.842812",
     "exception": false,
     "start_time": "2021-06-22T21:26:13.797094",
     "status": "completed"
    },
    "tags": []
   },
   "outputs": [
    {
     "name": "stdout",
     "output_type": "stream",
     "text": [
      "Linear Regression accuracy_score : 83.33% \n",
      "Linear Regression f1-score :  76.19%\n"
     ]
    }
   ],
   "source": [
    "s1 = accuracy_score(y_test,y_pred)\n",
    "f1 = f1_score(y_test,y_pred)\n",
    "print(\"Linear Regression accuracy_score :\", \"{:.2f}%\".format(100*s1),'\\n'\n",
    "      'Linear Regression f1-score : ', \"{:.2f}%\".format(100*f1))"
   ]
  },
  {
   "cell_type": "code",
   "execution_count": 19,
   "id": "adopted-exchange",
   "metadata": {
    "execution": {
     "iopub.execute_input": "2021-06-22T21:26:13.913927Z",
     "iopub.status.busy": "2021-06-22T21:26:13.913262Z",
     "iopub.status.idle": "2021-06-22T21:26:13.916226Z",
     "shell.execute_reply": "2021-06-22T21:26:13.915569Z",
     "shell.execute_reply.started": "2021-06-22T21:25:24.714321Z"
    },
    "id": "PvN7HgOpYZxC",
    "papermill": {
     "duration": 0.04062,
     "end_time": "2021-06-22T21:26:13.916385",
     "exception": false,
     "start_time": "2021-06-22T21:26:13.875765",
     "status": "completed"
    },
    "tags": []
   },
   "outputs": [],
   "source": [
    "params = {\n",
    "    'C' : [1,2,3,4,5,6,7,8,9,10,11],\n",
    "    'penalty' : ['l1' , 'l2'],\n",
    "    'max_iter' : [100,500]\n",
    "}"
   ]
  },
  {
   "cell_type": "code",
   "execution_count": 20,
   "id": "awful-anxiety",
   "metadata": {
    "execution": {
     "iopub.execute_input": "2021-06-22T21:26:13.989820Z",
     "iopub.status.busy": "2021-06-22T21:26:13.989084Z",
     "iopub.status.idle": "2021-06-22T21:26:19.914033Z",
     "shell.execute_reply": "2021-06-22T21:26:19.914588Z",
     "shell.execute_reply.started": "2021-06-22T21:25:24.724806Z"
    },
    "id": "pnZmL7CIY_fy",
    "papermill": {
     "duration": 5.964874,
     "end_time": "2021-06-22T21:26:19.914764",
     "exception": false,
     "start_time": "2021-06-22T21:26:13.949890",
     "status": "completed"
    },
    "tags": []
   },
   "outputs": [
    {
     "name": "stderr",
     "output_type": "stream",
     "text": [
      "/opt/conda/lib/python3.7/site-packages/sklearn/model_selection/_search.py:921: UserWarning: One or more of the test scores are non-finite: [       nan 0.81231884        nan 0.81231884        nan 0.81231884\n",
      "        nan 0.81231884        nan 0.81231884        nan 0.81231884\n",
      "        nan 0.81231884        nan 0.81231884        nan 0.80398551\n",
      "        nan 0.81231884        nan 0.79981884        nan 0.81231884\n",
      "        nan 0.80398551        nan 0.81231884        nan 0.78731884\n",
      "        nan 0.80398551        nan 0.78731884        nan 0.80815217\n",
      "        nan 0.78731884        nan 0.80398551        nan 0.78731884\n",
      "        nan 0.79565217]\n",
      "  category=UserWarning\n"
     ]
    }
   ],
   "source": [
    "model_cv = GridSearchCV(model , params , cv = 10 , n_jobs= -1)\n",
    "model_cv.fit(X_train, y_train)\n",
    "y_pred_cv = model_cv.predict(X_test)"
   ]
  },
  {
   "cell_type": "code",
   "execution_count": 21,
   "id": "religious-mixture",
   "metadata": {
    "execution": {
     "iopub.execute_input": "2021-06-22T21:26:19.989795Z",
     "iopub.status.busy": "2021-06-22T21:26:19.988943Z",
     "iopub.status.idle": "2021-06-22T21:26:19.993489Z",
     "shell.execute_reply": "2021-06-22T21:26:19.994121Z",
     "shell.execute_reply.started": "2021-06-22T21:25:29.446230Z"
    },
    "id": "os3QGoXwZWb0",
    "outputId": "3a98b770-1991-4482-d2fd-846f8cd314c2",
    "papermill": {
     "duration": 0.046559,
     "end_time": "2021-06-22T21:26:19.994303",
     "exception": false,
     "start_time": "2021-06-22T21:26:19.947744",
     "status": "completed"
    },
    "tags": []
   },
   "outputs": [
    {
     "name": "stdout",
     "output_type": "stream",
     "text": [
      "Linear Regression accuracy_score : 83.33% \n",
      "Linear Regression f1-score :  76.19%\n"
     ]
    }
   ],
   "source": [
    "s1_cv = accuracy_score(y_test,y_pred_cv)\n",
    "f1_cv = f1_score(y_test,y_pred_cv)\n",
    "print(\"Linear Regression accuracy_score :\", \"{:.2f}%\".format(100*s1_cv),'\\n'\n",
    "      'Linear Regression f1-score : ', \"{:.2f}%\".format(100*f1_cv))"
   ]
  },
  {
   "cell_type": "markdown",
   "id": "flying-portable",
   "metadata": {
    "id": "w448BG2UeyMx",
    "papermill": {
     "duration": 0.032972,
     "end_time": "2021-06-22T21:26:20.061046",
     "exception": false,
     "start_time": "2021-06-22T21:26:20.028074",
     "status": "completed"
    },
    "tags": []
   },
   "source": [
    "### Random forest classifier"
   ]
  },
  {
   "cell_type": "code",
   "execution_count": 22,
   "id": "preliminary-hotel",
   "metadata": {
    "execution": {
     "iopub.execute_input": "2021-06-22T21:26:20.133611Z",
     "iopub.status.busy": "2021-06-22T21:26:20.132805Z",
     "iopub.status.idle": "2021-06-22T21:26:20.268811Z",
     "shell.execute_reply": "2021-06-22T21:26:20.268242Z",
     "shell.execute_reply.started": "2021-06-22T21:25:29.454891Z"
    },
    "id": "QjSIWbobdib3",
    "papermill": {
     "duration": 0.173777,
     "end_time": "2021-06-22T21:26:20.268963",
     "exception": false,
     "start_time": "2021-06-22T21:26:20.095186",
     "status": "completed"
    },
    "tags": []
   },
   "outputs": [],
   "source": [
    "from sklearn.ensemble import RandomForestClassifier"
   ]
  },
  {
   "cell_type": "code",
   "execution_count": 23,
   "id": "isolated-energy",
   "metadata": {
    "execution": {
     "iopub.execute_input": "2021-06-22T21:26:20.368429Z",
     "iopub.status.busy": "2021-06-22T21:26:20.363181Z",
     "iopub.status.idle": "2021-06-22T21:26:20.549169Z",
     "shell.execute_reply": "2021-06-22T21:26:20.549659Z",
     "shell.execute_reply.started": "2021-06-22T21:25:29.492624Z"
    },
    "id": "B6Ri59nCe-1s",
    "papermill": {
     "duration": 0.247632,
     "end_time": "2021-06-22T21:26:20.549859",
     "exception": false,
     "start_time": "2021-06-22T21:26:20.302227",
     "status": "completed"
    },
    "tags": []
   },
   "outputs": [],
   "source": [
    "RF_model = RandomForestClassifier()\n",
    "RF_model.fit(X_train,y_train)\n",
    "y_pred_rf = RF_model.predict(X_test)"
   ]
  },
  {
   "cell_type": "code",
   "execution_count": 24,
   "id": "oriental-plaza",
   "metadata": {
    "execution": {
     "iopub.execute_input": "2021-06-22T21:26:20.631066Z",
     "iopub.status.busy": "2021-06-22T21:26:20.630440Z",
     "iopub.status.idle": "2021-06-22T21:26:20.635407Z",
     "shell.execute_reply": "2021-06-22T21:26:20.634888Z",
     "shell.execute_reply.started": "2021-06-22T21:25:29.653812Z"
    },
    "id": "OZWcYc5WfM03",
    "outputId": "1cc39da8-0774-42ca-e86b-64e253f5bd74",
    "papermill": {
     "duration": 0.045968,
     "end_time": "2021-06-22T21:26:20.635548",
     "exception": false,
     "start_time": "2021-06-22T21:26:20.589580",
     "status": "completed"
    },
    "tags": []
   },
   "outputs": [
    {
     "name": "stdout",
     "output_type": "stream",
     "text": [
      "Random Forest Classifier accuracy_score : 85.00% \n",
      "Random Forest Classifier f1-score :  76.92%\n"
     ]
    }
   ],
   "source": [
    "s1_rf = accuracy_score(y_test,y_pred_rf)\n",
    "f1_rf = f1_score(y_test,y_pred_rf)\n",
    "print(\"Random Forest Classifier accuracy_score :\", \"{:.2f}%\".format(100*s1_rf),'\\n'\n",
    "      'Random Forest Classifier f1-score : ', \"{:.2f}%\".format(100*f1_rf))"
   ]
  }
 ],
 "metadata": {
  "kernelspec": {
   "display_name": "Python 3",
   "language": "python",
   "name": "python3"
  },
  "language_info": {
   "codemirror_mode": {
    "name": "ipython",
    "version": 3
   },
   "file_extension": ".py",
   "mimetype": "text/x-python",
   "name": "python",
   "nbconvert_exporter": "python",
   "pygments_lexer": "ipython3",
   "version": "3.7.10"
  },
  "papermill": {
   "default_parameters": {},
   "duration": 20.874865,
   "end_time": "2021-06-22T21:26:22.062279",
   "environment_variables": {},
   "exception": null,
   "input_path": "__notebook__.ipynb",
   "output_path": "__notebook__.ipynb",
   "parameters": {},
   "start_time": "2021-06-22T21:26:01.187414",
   "version": "2.3.3"
  }
 },
 "nbformat": 4,
 "nbformat_minor": 5
}
